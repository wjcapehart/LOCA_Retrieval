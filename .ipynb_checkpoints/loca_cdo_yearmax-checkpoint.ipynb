{
 "cells": [
  {
   "cell_type": "markdown",
   "id": "3237bfa3-bd3f-4aa9-adb6-7042b70e8c6f",
   "metadata": {},
   "source": [
    "# CDO LOCA yearmax"
   ]
  },
  {
   "cell_type": "markdown",
   "id": "61b6466d-aadd-42a1-aa47-3352982532e3",
   "metadata": {},
   "source": [
    "## Libraries"
   ]
  },
  {
   "cell_type": "code",
   "execution_count": null,
   "id": "149f354f-2d03-45e8-931c-1dc4d6ec1494",
   "metadata": {},
   "outputs": [],
   "source": [
    "import os    as os\n",
    "\n",
    "import numpy as np"
   ]
  },
  {
   "cell_type": "markdown",
   "id": "b3b2c013-8409-4b93-900e-51e6bbbbd0ca",
   "metadata": {},
   "source": [
    "## Control Variables and Arrays"
   ]
  },
  {
   "cell_type": "code",
   "execution_count": null,
   "id": "e067a7ab-9634-4ece-9cbf-9498a07dd56d",
   "metadata": {},
   "outputs": [],
   "source": [
    "working_directory = \"./\"\n",
    "\n",
    "\n",
    "thredds_root_orig = \"/projects/ECEP/LOCA_MACA_Ensembles/LOCA/LOCA_NGP/Northern_Great_Plains_Original_Subset/\"\n",
    "\n",
    "thredds_root_new  = \"/projects/ECEP/LOCA_MACA_Ensembles/LOCA/LOCA_NGP/climatology/ANNUAL/ANN_MAX_SERIES/\"\n",
    "\n",
    "\n",
    "rcps      = [\"historical\",\"rcp45\",\"rcp85\"]\n",
    "\n",
    "\n",
    "\n",
    "ensembles =  [\"ACCESS1-0\" ,     \\\n",
    "              \"ACCESS1-3\",      \\\n",
    "              \"CCSM4\",          \\\n",
    "              \"CESM1-BGC\",      \\\n",
    "              \"CESM1-CAM5\",     \\\n",
    "              \"CMCC-CMS\",       \\\n",
    "              \"CMCC-CM\",        \\\n",
    "              \"CNRM-CM5\",       \\\n",
    "              \"CSIRO-Mk3-6-0\",  \\\n",
    "              \"CanESM2\",        \\\n",
    "              \"FGOALS-g2\",      \\\n",
    "              \"GFDL-CM3\",       \\\n",
    "              \"GFDL-ESM2G\",     \\\n",
    "              \"GFDL-ESM2M\",     \\\n",
    "              \"HadGEM2-AO\",     \\\n",
    "              \"HadGEM2-CC\",     \\\n",
    "              \"HadGEM2-ES\",     \\\n",
    "              \"IPSL-CM5A-LR\",   \\\n",
    "              \"IPSL-CM5A-MR\",   \\\n",
    "              \"MIROC-ESM-CHEM\", \\\n",
    "              \"MIROC-ESM\",      \\\n",
    "              \"MIROC5\",         \\\n",
    "              \"MPI-ESM-LR\",     \\\n",
    "              \"MPI-ESM-MR\",     \\\n",
    "              \"MRI-CGCM3\",      \\\n",
    "              \"NorESM1-M\",      \\\n",
    "              \"bcc-csm1-1-m\"    ]\n",
    "\n"
   ]
  },
  {
   "cell_type": "markdown",
   "id": "6224a84a-0b0d-4bf2-9bcf-9b53ad626cc6",
   "metadata": {},
   "source": [
    "## Processing Loop"
   ]
  },
  {
   "cell_type": "markdown",
   "id": "4abb2f59-b051-41f8-8957-994e8ae57352",
   "metadata": {},
   "source": []
  },
  {
   "cell_type": "code",
   "execution_count": null,
   "id": "75567e19-fb75-4eb7-93b8-cfe06b3246ae",
   "metadata": {},
   "outputs": [],
   "source": [
    "thredds_root2 = \"/projects/ECEP/LOCA_MACA_Ensembles/LOCA/LOCA_NGP/Northern_Great_Plains_Original_Subset/\"\n",
    "\n",
    "\n",
    "print(' ')\n",
    "print(' ')\n",
    "print('===============================')\n",
    "\n",
    "for rcp in rcps:\n",
    "    print('===============================')\n",
    "\n",
    "    directory = thredds_root + rcp \n",
    "    print(\"cd \" + directory)\n",
    "    os.chdir(directory)\n",
    "\n",
    "    for ensemble in ensembles:\n",
    "\n",
    "        print('-------------------------------')\n",
    "\n",
    "        input_file_nc_name_orig  = thredds_root_orig  + rcp + \"/\" + \\\n",
    "                                  \"NGP_LOCA\"    + \\\n",
    "                                  \"___\"          + \\\n",
    "                                  ensemble  + \\\n",
    "                                  \"___\"          + \\\n",
    "                                  rcp           + \\\n",
    "                                  \".nc\"\n",
    "        output_file_nc_name_new = thredds_root_new + rcp  + \"/\" + \\\n",
    "                                  \"NGP_LOCA\"    + \\\n",
    "                                  \"___\"          + \\\n",
    "                                  ensemble  + \\\n",
    "                                  \"___\"          + \\\n",
    "                                  rcp           + \\\n",
    "                                  \"___YEARMAX.nc\"\n",
    "\n",
    "\n",
    "\n",
    "\n",
    "\n",
    "        #print('- - - - - - - - - - - - - - - -')\n",
    "        #print(output_file_nc_name_new)\n",
    "        #print(    '')\n",
    "        #print(    'cdo yearmax '+input_file_nc_name_new+' '+output_file_nc_name_new)\n",
    "        #os.system('cdo yearmax '+input_file_nc_name_new+' '+output_file_nc_name_new)\n",
    "        \n",
    "        output_file_nc_name_new_cheyenne = thredds_root_new + rcp  + \"/\" + \\\n",
    "                                  \"CHEYENNE_LOCA\"    + \\\n",
    "                                  \"___\"          + \\\n",
    "                                  ensemble  + \\\n",
    "                                  \"___\"          + \\\n",
    "                                  rcp           + \\\n",
    "                                  \"___YEARMAX.nc\"\n",
    "\n",
    "\n",
    "        print('- - - - - - - - - - - - - - - -')\n",
    "        print(output_file_nc_name_new)\n",
    "        print(    '')\n",
    "        print(    'ncea -h -4 -d lat,139,180 -d lon,131,209 ' + output_file_nc_name_new + \" \" + output_file_nc_name_new_cheyenne)\n",
    "        os.system('ncea -h -4 -d lat,139,180 -d lon,131,209 ' + output_file_nc_name_new + \" \" + output_file_nc_name_new_cheyenne)\n",
    "        \n",
    "\n",
    "\n",
    "\n",
    "\n",
    "\n",
    "\n",
    "print(' ')\n",
    "print(' ')\n",
    "\n",
    "\n",
    "\n"
   ]
  }
 ],
 "metadata": {
  "kernelspec": {
   "display_name": "Python 3 (ipykernel)",
   "language": "python",
   "name": "python3"
  },
  "language_info": {
   "codemirror_mode": {
    "name": "ipython",
    "version": 3
   },
   "file_extension": ".py",
   "mimetype": "text/x-python",
   "name": "python",
   "nbconvert_exporter": "python",
   "pygments_lexer": "ipython3",
   "version": "3.9.15"
  }
 },
 "nbformat": 4,
 "nbformat_minor": 5
}
