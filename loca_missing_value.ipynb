{
 "cells": [
  {
   "cell_type": "markdown",
   "id": "3237bfa3-bd3f-4aa9-adb6-7042b70e8c6f",
   "metadata": {},
   "source": [
    "# Renaming LOCA Repositories"
   ]
  },
  {
   "cell_type": "markdown",
   "id": "61b6466d-aadd-42a1-aa47-3352982532e3",
   "metadata": {},
   "source": [
    "## Libraries"
   ]
  },
  {
   "cell_type": "code",
   "execution_count": 1,
   "id": "149f354f-2d03-45e8-931c-1dc4d6ec1494",
   "metadata": {},
   "outputs": [],
   "source": [
    "import os    as os\n",
    "\n",
    "import numpy as np"
   ]
  },
  {
   "cell_type": "markdown",
   "id": "b3b2c013-8409-4b93-900e-51e6bbbbd0ca",
   "metadata": {},
   "source": [
    "## Control Variables and Arrays"
   ]
  },
  {
   "cell_type": "code",
   "execution_count": 2,
   "id": "e067a7ab-9634-4ece-9cbf-9498a07dd56d",
   "metadata": {},
   "outputs": [],
   "source": [
    "working_directory = \"./\"\n",
    "\n",
    "ftp_prefix = \"http://loca.ucsd.edu/public/LOCA_relative_humid_v2/\"\n",
    "\n",
    "thredds_root = \"/projects/ECEP/LOCA_MACA_Ensembles/LOCA/LOCA_NGP/Northern_Great_Plains_Original_Subset/\"\n",
    "\n",
    "rcps      = [\"historical\",\"rcp45\",\"rcp85\"]\n",
    "\n",
    "variables = [\"tasmax\", \"tasmin\", \"pr\", \"rhmin\", \"rhmax\"]\n",
    "\n",
    "\n",
    "ensembles =  [\"ACCESS1-0\" ,     \\\n",
    "              \"ACCESS1-3\",      \\\n",
    "              \"CCSM4\",          \\\n",
    "              \"CESM1-BGC\",      \\\n",
    "              \"CESM1-CAM5\",     \\\n",
    "              \"CMCC-CMS\",       \\\n",
    "              \"CMCC-CM\",        \\\n",
    "              \"CNRM-CM5\",       \\\n",
    "              \"CSIRO-Mk3-6-0\",  \\\n",
    "              \"CanESM2\",        \\\n",
    "              \"FGOALS-g2\",      \\\n",
    "              \"GFDL-CM3\",       \\\n",
    "              \"GFDL-ESM2G\",     \\\n",
    "              \"GFDL-ESM2M\",     \\\n",
    "              \"HadGEM2-AO\",     \\\n",
    "              \"HadGEM2-CC\",     \\\n",
    "              \"HadGEM2-ES\",     \\\n",
    "              \"IPSL-CM5A-LR\",   \\\n",
    "              \"IPSL-CM5A-MR\",   \\\n",
    "              \"MIROC-ESM-CHEM\", \\\n",
    "              \"MIROC-ESM\",      \\\n",
    "              \"MIROC5\",         \\\n",
    "              \"MPI-ESM-LR\",     \\\n",
    "              \"MPI-ESM-MR\",     \\\n",
    "              \"MRI-CGCM3\",      \\\n",
    "              \"NorESM1-M\",      \\\n",
    "              \"bcc-csm1-1-m\"    ]\n",
    "\n",
    "ensemble2s = [\"ACCESS1-0_r1i1p1\" ,     \\\n",
    "              \"ACCESS1-3_r1i1p1\",      \\\n",
    "              \"CCSM4_r6i1p1\",          \\\n",
    "              \"CESM1-BGC_r1i1p1\",      \\\n",
    "              \"CESM1-CAM5_r1i1p1\",     \\\n",
    "              \"CMCC-CMS_r1i1p1\",       \\\n",
    "              \"CMCC-CM_r1i1p1\",        \\\n",
    "              \"CNRM-CM5_r1i1p1\",       \\\n",
    "              \"CSIRO-Mk3-6-0_r1i1p1\",  \\\n",
    "              \"CanESM2_r1i1p1\",        \\\n",
    "              \"FGOALS-g2_r1i1p1\",      \\\n",
    "              \"GFDL-CM3_r1i1p1\",       \\\n",
    "              \"GFDL-ESM2G_r1i1p1\",     \\\n",
    "              \"GFDL-ESM2M_r1i1p1\",     \\\n",
    "              \"HadGEM2-AO_r1i1p1\",     \\\n",
    "              \"HadGEM2-CC_r1i1p1\",     \\\n",
    "              \"HadGEM2-ES_r1i1p1\",     \\\n",
    "              \"IPSL-CM5A-LR_r1i1p1\",   \\\n",
    "              \"IPSL-CM5A-MR_r1i1p1\",   \\\n",
    "              \"MIROC-ESM-CHEM_r1i1p1\", \\\n",
    "              \"MIROC-ESM_r1i1p1\",      \\\n",
    "              \"MIROC5_r1i1p1\",         \\\n",
    "              \"MPI-ESM-LR_r1i1p1\",     \\\n",
    "              \"MPI-ESM-MR_r1i1p1\",     \\\n",
    "              \"MRI-CGCM3_r1i1p1\",      \\\n",
    "              \"NorESM1-M_r1i1p1\",      \\\n",
    "              \"bcc-csm1-1-m_r1i1p1\"    ]"
   ]
  },
  {
   "cell_type": "markdown",
   "id": "6224a84a-0b0d-4bf2-9bcf-9b53ad626cc6",
   "metadata": {},
   "source": [
    "## Processing Loop"
   ]
  },
  {
   "cell_type": "code",
   "execution_count": 3,
   "id": "fed36799-5555-4ebe-ab8e-b30946ba1d88",
   "metadata": {},
   "outputs": [
    {
     "name": "stdout",
     "output_type": "stream",
     "text": [
      " \n",
      " \n",
      "===============================\n",
      "cd /projects/ECEP/LOCA_MACA_Ensembles/LOCA/LOCA_NGP/Northern_Great_Plains_Original_Subset/historical/tasmax\n"
     ]
    },
    {
     "ename": "FileNotFoundError",
     "evalue": "[Errno 2] No such file or directory: '/projects/ECEP/LOCA_MACA_Ensembles/LOCA/LOCA_NGP/Northern_Great_Plains_Original_Subset/historical/tasmax'",
     "output_type": "error",
     "traceback": [
      "\u001b[0;31m---------------------------------------------------------------------------\u001b[0m",
      "\u001b[0;31mFileNotFoundError\u001b[0m                         Traceback (most recent call last)",
      "Input \u001b[0;32mIn [3]\u001b[0m, in \u001b[0;36m<cell line: 1>\u001b[0;34m()\u001b[0m\n\u001b[1;32m      9\u001b[0m directory \u001b[38;5;241m=\u001b[39m thredds_root \u001b[38;5;241m+\u001b[39m rcp \u001b[38;5;241m+\u001b[39m \u001b[38;5;124m\"\u001b[39m\u001b[38;5;124m/\u001b[39m\u001b[38;5;124m\"\u001b[39m \u001b[38;5;241m+\u001b[39m variable_new \n\u001b[1;32m     10\u001b[0m \u001b[38;5;28mprint\u001b[39m(\u001b[38;5;124m\"\u001b[39m\u001b[38;5;124mcd \u001b[39m\u001b[38;5;124m\"\u001b[39m \u001b[38;5;241m+\u001b[39m directory)\n\u001b[0;32m---> 11\u001b[0m \u001b[43mos\u001b[49m\u001b[38;5;241;43m.\u001b[39;49m\u001b[43mchdir\u001b[49m\u001b[43m(\u001b[49m\u001b[43mdirectory\u001b[49m\u001b[43m)\u001b[49m\n\u001b[1;32m     13\u001b[0m \u001b[38;5;28;01mfor\u001b[39;00m ens_j \u001b[38;5;129;01min\u001b[39;00m \u001b[38;5;28mrange\u001b[39m(\u001b[38;5;28mlen\u001b[39m(ensembles)):\n\u001b[1;32m     15\u001b[0m     \u001b[38;5;28mprint\u001b[39m(\u001b[38;5;124m'\u001b[39m\u001b[38;5;124m-------------------------------\u001b[39m\u001b[38;5;124m'\u001b[39m)\n",
      "\u001b[0;31mFileNotFoundError\u001b[0m: [Errno 2] No such file or directory: '/projects/ECEP/LOCA_MACA_Ensembles/LOCA/LOCA_NGP/Northern_Great_Plains_Original_Subset/historical/tasmax'"
     ]
    }
   ],
   "source": [
    "\n",
    "\n",
    "for variable_new in variables:\n",
    "    \n",
    "    print(' ')\n",
    "    print(' ')\n",
    "    print('===============================')\n",
    "    \n",
    "    for rcp in rcps:\n",
    "        \n",
    "        directory = thredds_root + rcp + \"/\" + variable_new \n",
    "        print(\"cd \" + directory)\n",
    "        os.chdir(directory)\n",
    "\n",
    "        for ens_j in range(len(ensembles)):\n",
    "            \n",
    "            print('-------------------------------')\n",
    "\n",
    "            ensemble_new = ensembles[ens_j]\n",
    "            \n",
    "            output_file_nc_name_new = \"NGP_LOCA\"    + \\\n",
    "                                      \"___\"          + \\\n",
    "                                      variable_new  + \\\n",
    "                                      \"___\"          + \\\n",
    "                                      ensemble_new  + \\\n",
    "                                      \"___\"          + \\\n",
    "                                      rcp           + \\\n",
    "                                      \".nc\"\n",
    "            \n",
    "            full_file_nc_name_new = \"./\" + output_file_nc_name_new\n",
    "            \n",
    "\n",
    "            print(output_file_nc_name_new)\n",
    "            \n",
    "           \n",
    "            print('- - - - - - - - - - - - - - - -')\n",
    "            print(    'ncatted -O -h -a missing_value,'+variable_new+',o,s,-32767  ' + full_file_nc_name_new)\n",
    "            os.system('ncatted -O -h -a missing_value,'+variable_new+',o,s,-32767  ' + full_file_nc_name_new)\n",
    "\n",
    "\n",
    "\n",
    "\n",
    "                 \n",
    "\n",
    "                \n",
    "\n",
    "           \n",
    "    print('===============================')\n",
    "    print(' ')\n",
    "    print(' ')\n",
    "\n",
    "\n",
    "            \n",
    "            \n"
   ]
  },
  {
   "cell_type": "markdown",
   "id": "4abb2f59-b051-41f8-8957-994e8ae57352",
   "metadata": {},
   "source": []
  },
  {
   "cell_type": "code",
   "execution_count": null,
   "id": "75567e19-fb75-4eb7-93b8-cfe06b3246ae",
   "metadata": {},
   "outputs": [],
   "source": []
  }
 ],
 "metadata": {
  "kernelspec": {
   "display_name": "Python 3",
   "language": "python",
   "name": "python3"
  },
  "language_info": {
   "codemirror_mode": {
    "name": "ipython",
    "version": 3
   },
   "file_extension": ".py",
   "mimetype": "text/x-python",
   "name": "python",
   "nbconvert_exporter": "python",
   "pygments_lexer": "ipython3",
   "version": "3.10.8 (main, Oct 13 2022, 09:48:40) [Clang 14.0.0 (clang-1400.0.29.102)]"
  },
  "vscode": {
   "interpreter": {
    "hash": "b0fa6594d8f4cbf19f97940f81e996739fb7646882a419484c72d19e05852a7e"
   }
  }
 },
 "nbformat": 4,
 "nbformat_minor": 5
}
